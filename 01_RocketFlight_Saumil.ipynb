{
 "metadata": {
  "name": "",
  "signature": "sha256:3eefac6da65eddcd4d90e0d497c55796c5dba28a89f2401b89af8d32fe1345f2"
 },
 "nbformat": 3,
 "nbformat_minor": 0,
 "worksheets": [
  {
   "cells": [
    {
     "cell_type": "heading",
     "level": 1,
     "metadata": {},
     "source": [
      "Coding assignment: Rocket flight"
     ]
    },
    {
     "cell_type": "markdown",
     "metadata": {},
     "source": [
      "Saumil Joshi "
     ]
    },
    {
     "cell_type": "markdown",
     "metadata": {},
     "source": [
      "**Load modules**"
     ]
    },
    {
     "cell_type": "code",
     "collapsed": false,
     "input": [
      "import numpy\n",
      "import math\n",
      "import matplotlib.pyplot as plt\n",
      "%matplotlib inline\n",
      "from matplotlib import rcParams\n",
      "rcParams['font.family'] = 'serif'\n",
      "rcParams['font.size'] = 16"
     ],
     "language": "python",
     "metadata": {},
     "outputs": [],
     "prompt_number": 1
    },
    {
     "cell_type": "markdown",
     "metadata": {},
     "source": [
      "**Define parameters and initialize**"
     ]
    },
    {
     "cell_type": "code",
     "collapsed": false,
     "input": [
      "# model parameters:\n",
      "g = 9.81      # acceleration due to gravity in m s^{-2}\n",
      "ms = 50.      # weight of the rocket shell in kg\n",
      "rho = 1.091   # average air density in kg m^{-3}\n",
      "r = .5        # radius\n",
      "ve = 325.     # exhaust speed\n",
      "Cd = .15      # drag coefficient\n",
      "A = math.pi*r*r # area\n",
      "mpo = 100.    # initial mass\n",
      "vo = 0.       # initial velocity\n",
      "ho = 0.       # initial position"
     ],
     "language": "python",
     "metadata": {},
     "outputs": [],
     "prompt_number": 2
    },
    {
     "cell_type": "markdown",
     "metadata": {},
     "source": [
      "**System of differential equations**\n",
      "\n",
      "\\begin{align}\n",
      "h^{n+1} & = h^n + \\Delta t \\, v^n \\\\\n",
      "v^{n+1} & = v^n + \\Delta t \\left(- g + \\frac{\\dot{m_p^n}\\ v_e}{m_s+m_p^n}\\ - \\frac{\\rho v_n |v_n| A C_D \\Delta t}{2(m_s + m_p^n)}\\ \\right) \\\\\n",
      "m_p^{n+1} & = m_p^n - \\Delta t \\, \\dot{m_p^n}\\ \n",
      "\\end{align}"
     ]
    },
    {
     "cell_type": "code",
     "collapsed": false,
     "input": [
      "def f(u,dmp):\n",
      "\n",
      "    h = u[0]\n",
      "    v = u[1]\n",
      "    mp = u[2]\n",
      "    return numpy.array([v, -g + (dmp*ve/(ms+mp)) - (1./2)*rho*v*abs(v)*A*Cd/(ms+mp), -dmp])"
     ],
     "language": "python",
     "metadata": {},
     "outputs": [],
     "prompt_number": 3
    },
    {
     "cell_type": "markdown",
     "metadata": {},
     "source": [
      "**Euler method implementation**\n",
      "\\begin{align}\n",
      "u'(t) = f(u)\n",
      "\\end{align}"
     ]
    },
    {
     "cell_type": "code",
     "collapsed": false,
     "input": [
      "def euler_step(u, f, dt, dmp):\n",
      "    return u + dt * f(u,dmp)"
     ],
     "language": "python",
     "metadata": {},
     "outputs": [],
     "prompt_number": 4
    },
    {
     "cell_type": "markdown",
     "metadata": {},
     "source": [
      "**Construct grid, initialize, and loop**"
     ]
    },
    {
     "cell_type": "code",
     "collapsed": false,
     "input": [
      "T = 100.0                          # final time\n",
      "dt = 0.1                           # time increment\n",
      "N = int(T/dt) + 1                  # number of time-steps\n",
      "t = numpy.linspace(0.0, T, N)      # time discretization\n",
      "\n",
      "# initialize the array containing the solution for each time-step\n",
      "u = numpy.empty((N, 3))\n",
      "u[0] = numpy.array([ho, vo, mpo])  # fill 1st element with initial values\n",
      "dmpt = numpy.append(numpy.dot(int(5/dt)*[1],20),[(N-int(5/dt))*[0]])\n",
      "# time loop - Euler method\n",
      "for n in range(N-1):\n",
      "    \n",
      "    u[n+1] = euler_step(u[n], f, dt,dmpt[n])"
     ],
     "language": "python",
     "metadata": {},
     "outputs": [],
     "prompt_number": 5
    },
    {
     "cell_type": "markdown",
     "metadata": {},
     "source": [
      "**Plot height, velocity, and mass vs. time**"
     ]
    },
    {
     "cell_type": "code",
     "collapsed": false,
     "input": [
      "# visualization of the path\n",
      "plt.figure(figsize=(8,6))\n",
      "plt.grid(True)\n",
      "plt.xlabel(r't (s)', fontsize=18)\n",
      "plt.ylabel(r'h (m)', fontsize=18)\n",
      "plt.title('', fontsize=18)\n",
      "plt.plot(t,u[:,0], 'r-', lw=2);\n",
      "# visualization of the velocity\n",
      "plt.figure(figsize=(8,6))\n",
      "plt.grid(True)\n",
      "plt.xlabel(r't (s)', fontsize=18)\n",
      "plt.ylabel(r'v (m/s)', fontsize=18)\n",
      "plt.title('', fontsize=18)\n",
      "plt.plot(t,u[:,1], 'g-', lw=2);\n",
      "# visualization of the mass\n",
      "plt.figure(figsize=(8,6))\n",
      "plt.grid(True)\n",
      "plt.xlabel(r't (s)', fontsize=18)\n",
      "plt.ylabel(r'm (kg)', fontsize=18)\n",
      "plt.title('', fontsize=18)\n",
      "plt.plot(t,u[:,2], 'b-', lw=2);"
     ],
     "language": "python",
     "metadata": {},
     "outputs": [
      {
       "metadata": {},
       "output_type": "display_data",
       "png": "[encoded data removed]",
       "text": [
        "<matplotlib.figure.Figure at 0x9c38358>"
       ]
      },
      {
       "metadata": {},
       "output_type": "display_data",
       "png": "[encoded data removed]",
       "text": [
        "<matplotlib.figure.Figure at 0x9cfb5c0>"
       ]
      },
      {
       "metadata": {},
       "output_type": "display_data",
       "png": "[encoded data removed]",
       "text": [
        "<matplotlib.figure.Figure at 0x9d39a58>"
       ]
      }
     ],
     "prompt_number": 6
    },
    {
     "cell_type": "markdown",
     "metadata": {},
     "source": [
      "*Maximum velocity (in m/s)*"
     ]
    },
    {
     "cell_type": "code",
     "collapsed": false,
     "input": [
      "numpy.max(u[:,1])"
     ],
     "language": "python",
     "metadata": {},
     "outputs": [
      {
       "metadata": {},
       "output_type": "pyout",
       "prompt_number": 7,
       "text": [
        "232.10613341261791"
       ]
      }
     ],
     "prompt_number": 7
    },
    {
     "cell_type": "markdown",
     "metadata": {},
     "source": [
      "*Time of maximum velocity (in s)*"
     ]
    },
    {
     "cell_type": "code",
     "collapsed": false,
     "input": [
      "t[numpy.argmax(u[:,1])]"
     ],
     "language": "python",
     "metadata": {},
     "outputs": [
      {
       "metadata": {},
       "output_type": "pyout",
       "prompt_number": 8,
       "text": [
        "5.0"
       ]
      }
     ],
     "prompt_number": 8
    },
    {
     "cell_type": "markdown",
     "metadata": {},
     "source": [
      "*Altitude at time of maximum velocity (in m)*"
     ]
    },
    {
     "cell_type": "code",
     "collapsed": false,
     "input": [
      "u[numpy.argmax(u[:,1]),0]"
     ],
     "language": "python",
     "metadata": {},
     "outputs": [
      {
       "metadata": {},
       "output_type": "pyout",
       "prompt_number": 9,
       "text": [
        "523.52283429184763"
       ]
      }
     ],
     "prompt_number": 9
    },
    {
     "cell_type": "markdown",
     "metadata": {},
     "source": [
      "*Maximum altitude (in m)*"
     ]
    },
    {
     "cell_type": "code",
     "collapsed": false,
     "input": [
      "numpy.max(u[:,0])"
     ],
     "language": "python",
     "metadata": {},
     "outputs": [
      {
       "metadata": {},
       "output_type": "pyout",
       "prompt_number": 10,
       "text": [
        "1334.1829454303067"
       ]
      }
     ],
     "prompt_number": 10
    },
    {
     "cell_type": "markdown",
     "metadata": {},
     "source": [
      "*Time at which rocket is at maximum altitude (in s)*"
     ]
    },
    {
     "cell_type": "code",
     "collapsed": false,
     "input": [
      "t[numpy.argmax(u[:,0])]"
     ],
     "language": "python",
     "metadata": {},
     "outputs": [
      {
       "metadata": {},
       "output_type": "pyout",
       "prompt_number": 11,
       "text": [
        "15.700000000000001"
       ]
      }
     ],
     "prompt_number": 11
    },
    {
     "cell_type": "markdown",
     "metadata": {},
     "source": [
      "*Time when rocket hits ground (in s)*"
     ]
    },
    {
     "cell_type": "code",
     "collapsed": false,
     "input": [
      "t[numpy.where(u[:-1,0] * u[1:,0] < 0)]"
     ],
     "language": "python",
     "metadata": {},
     "outputs": [
      {
       "metadata": {},
       "output_type": "pyout",
       "prompt_number": 12,
       "text": [
        "array([ 37.])"
       ]
      }
     ],
     "prompt_number": 12
    },
    {
     "cell_type": "markdown",
     "metadata": {},
     "source": [
      "*Velocity at the time of impact (in m/s)*"
     ]
    },
    {
     "cell_type": "code",
     "collapsed": false,
     "input": [
      "u[numpy.where(u[:-1,0] * u[1:,0] < 0),1]"
     ],
     "language": "python",
     "metadata": {},
     "outputs": [
      {
       "metadata": {},
       "output_type": "pyout",
       "prompt_number": 13,
       "text": [
        "array([[-85.97591348]])"
       ]
      }
     ],
     "prompt_number": 13
    }
   ],
   "metadata": {}
  }
 ]
}